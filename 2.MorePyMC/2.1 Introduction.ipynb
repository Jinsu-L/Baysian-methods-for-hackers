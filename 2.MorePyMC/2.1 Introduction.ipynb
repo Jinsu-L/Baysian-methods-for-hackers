{
 "cells": [
  {
   "cell_type": "markdown",
   "metadata": {},
   "source": [
    "## 2.1 서론"
   ]
  },
  {
   "cell_type": "markdown",
   "metadata": {},
   "source": [
    "### 2.1.1 부모와 자식 관계\n",
    "\n",
    "부모 변수 : 다른 변수에 영향을 주는 변수  \n",
    "\n",
    "자식 변수 : 다른 변수의 영향을 받는 변수, 부모변수에 종속  "
   ]
  },
  {
   "cell_type": "code",
   "execution_count": 1,
   "metadata": {},
   "outputs": [],
   "source": [
    "import pymc as pm\n",
    "import matplotlib\n",
    "\n",
    "matplotlib.rc('font', family='AppleGothic')\n",
    "\n",
    "lambda_ = pm.Exponential('poisson_param', 1)\n",
    "# 다음 변수 호출에 사용된다.\n",
    "data_generator = pm.Poisson('data_generator', lambda_)\n",
    "\n",
    "data_plus_one = data_generator + 1"
   ]
  },
  {
   "cell_type": "markdown",
   "metadata": {},
   "source": [
    "lambda_ 변수는 data_generator의 값에 영향을 주는 부모변수이다. \n",
    "\n",
    "data_generator는 lambda_에 자식변수,  \n",
    "\n",
    "data_generator는 data_plus_one의 부모변수  \n",
    "\n",
    "data_plus_one은 PyMC 변수의 또 다른 함수이자 PyMC의 변수  "
   ]
  },
  {
   "cell_type": "code",
   "execution_count": 2,
   "metadata": {},
   "outputs": [
    {
     "name": "stdout",
     "output_type": "stream",
     "text": [
      "Children of `parameter`: \n",
      "set([<pymc.distributions.Poisson 'data_generator' at 0x121f06f10>])\n",
      "\n",
      "Parents of `data_generator`: \n",
      "{'mu': <pymc.distributions.Exponential 'poisson_param' at 0x121f06fd0>}\n",
      "\n",
      "Children of `data_generator`: \n",
      "set([<pymc.PyMCObjects.Deterministic '(data_generator_add_1)' at 0x1020748d0>])\n"
     ]
    }
   ],
   "source": [
    "print(\"Children of `parameter`: \")\n",
    "print(lambda_.children)\n",
    "print(\"\\nParents of `data_generator`: \")\n",
    "print(data_generator.parents)\n",
    "print(\"\\nChildren of `data_generator`: \")\n",
    "print(data_generator.children)"
   ]
  },
  {
   "cell_type": "markdown",
   "metadata": {},
   "source": [
    "### 2.1.2 PyMC 변수"
   ]
  },
  {
   "cell_type": "markdown",
   "metadata": {},
   "source": [
    "모든 PyMC변수는 value 속성을 가진다. 이 속성을 통해 변수의 현재값(난수)을 생성한다.\n",
    "\n",
    "자식변수(child variable)의 값은 부모변수 값이 주어질 때 변경된다."
   ]
  },
  {
   "cell_type": "code",
   "execution_count": 3,
   "metadata": {},
   "outputs": [
    {
     "name": "stdout",
     "output_type": "stream",
     "text": [
      "('lambda_.value =', array(0.69834842))\n",
      "('data_generator.value =', array(0))\n",
      "('data_plus_one.value =', 1)\n"
     ]
    }
   ],
   "source": [
    "print('lambda_.value =', lambda_.value)\n",
    "print('data_generator.value =', data_generator.value)\n",
    "print('data_plus_one.value =', data_plus_one.value)"
   ]
  },
  {
   "cell_type": "markdown",
   "metadata": {},
   "source": [
    "PyMC는 변수로 stochastic과 deterministic 두 가지가 있다.\n",
    "\n",
    "* stochastic 변수는 값이 정해지지 않은 변수, 난수이며 Poisson, DiscreteUniform, Exponential 클래스의 인스턴스가 있다.\n",
    "\n",
    "* deterministic 변수는 부모의 변수를 모두 알고 있는 경우 랜덤하지 않은 변수"
   ]
  },
  {
   "cell_type": "markdown",
   "metadata": {},
   "source": [
    "#### stochastic 변수 초기화"
   ]
  },
  {
   "cell_type": "markdown",
   "metadata": {},
   "source": [
    "stochastic 변수를 초기화할 때 첫 인수는 변수의 이름을 나타내는 문자열이고 나머지는 추가적인 인수"
   ]
  },
  {
   "cell_type": "code",
   "execution_count": 4,
   "metadata": {},
   "outputs": [],
   "source": [
    "some_variable = pm.DiscreteUniform('discrete_uni_var', 0, 4)"
   ]
  },
  {
   "cell_type": "markdown",
   "metadata": {},
   "source": [
    "여기서 0,4는 고유의 난수 하한선과 상한선  \n",
    "\n",
    "name 인수는 분석 후반에 사후확률분포를 가져올 때 사용하므로 설명하는 이름을 사용하는것을 권장\n",
    "\n",
    "변수를 여러개 다루는 문제에서 확률변수 배열을 파이썬 배열로 만드는 대신 **size** 키워드를 설정하면 (독립적인) 확률변수의 배열이 만들어 진다."
   ]
  },
  {
   "cell_type": "code",
   "execution_count": 5,
   "metadata": {},
   "outputs": [],
   "source": [
    "beta_1 = pm.Uniform(\"beta_1\", 0, 1)\n",
    "beta_2 = pm.Uniform(\"beta_2\", 0, 1)"
   ]
  },
  {
   "cell_type": "code",
   "execution_count": 6,
   "metadata": {},
   "outputs": [],
   "source": [
    "N = 2\n",
    "betas = pm.Uniform(\"betas\", 0, 1, size=N)"
   ]
  },
  {
   "cell_type": "markdown",
   "metadata": {},
   "source": [
    "#### random() 호출하기"
   ]
  },
  {
   "cell_type": "markdown",
   "metadata": {},
   "source": [
    "stochastic 변수의 random() 메소드 호츌 가정, (부모변수 값이 주어졌다는 가정하에)  \n",
    "\n",
    "새 난수값을 만들 수 있음."
   ]
  },
  {
   "cell_type": "code",
   "execution_count": 7,
   "metadata": {},
   "outputs": [
    {
     "name": "stdout",
     "output_type": "stream",
     "text": [
      "Initialized values...\n",
      "lambda_1.value = 0.092\n",
      "lambda_2.value = 0.703\n",
      "('tau.value = 7.000', '\\n')\n",
      "(array(0.09857655), array(0.08941561), array(1))\n",
      "After calling random() on the variables...\n",
      "lambda_1.value = 0.099\n",
      "lambda_2.value = 0.089\n",
      "tau.value = 1.000\n"
     ]
    }
   ],
   "source": [
    "lambda_1 = pm.Exponential(\"lambda_1\", 1)\n",
    "lambda_2 = pm.Exponential('lambda_2', 1)\n",
    "tau = pm.DiscreteUniform('tau', lower=0, upper=10)\n",
    "\n",
    "print(\"Initialized values...\")\n",
    "print(\"lambda_1.value = %.3f\" % lambda_1.value)\n",
    "print(\"lambda_2.value = %.3f\" % lambda_2.value)\n",
    "print(\"tau.value = %.3f\" % tau.value, \"\\n\")\n",
    "\n",
    "print(lambda_1.random(), lambda_2.random(), tau.random())\n",
    "\n",
    "print(\"After calling random() on the variables...\")\n",
    "print(\"lambda_1.value = %.3f\" % lambda_1.value)\n",
    "print(\"lambda_2.value = %.3f\" % lambda_2.value)\n",
    "print(\"tau.value = %.3f\" % tau.value)"
   ]
  },
  {
   "cell_type": "markdown",
   "metadata": {},
   "source": [
    "#### deterministic 변수"
   ]
  },
  {
   "cell_type": "markdown",
   "metadata": {},
   "source": [
    "대부분 모델링하려는 변수는 확률변수 -> pymc.determinstic 레퍼(데코레이터)를 사용하여 deterministic 변수를 구분"
   ]
  },
  {
   "cell_type": "markdown",
   "metadata": {},
   "source": [
    "```python\n",
    "@pm.deterministic\n",
    "def some_deterministic_var(v1=v1, ):\n",
    "    # type code here\n",
    "```"
   ]
  },
  {
   "cell_type": "markdown",
   "metadata": {},
   "source": [
    "deterministic 변수를 만드는 가장 쉬운 방법은 데코레이터를 이용하는 것이지만, 기본적인 연산 등은 암묵적으로 deterministic 변수를 만든다."
   ]
  },
  {
   "cell_type": "code",
   "execution_count": 8,
   "metadata": {},
   "outputs": [
    {
     "data": {
      "text/plain": [
       "pymc.PyMCObjects.Deterministic"
      ]
     },
     "execution_count": 8,
     "metadata": {},
     "output_type": "execute_result"
    }
   ],
   "source": [
    "type(lambda_1 + lambda_2)"
   ]
  },
  {
   "cell_type": "code",
   "execution_count": 9,
   "metadata": {},
   "outputs": [],
   "source": [
    "# 1장에서 사용한 샘플 코드\n",
    "import numpy as np\n",
    "\n",
    "n_data_points = 5\n",
    "\n",
    "@pm.deterministic\n",
    "def lambda_(tau=tau, lambda_1=lambda_1, lambda_2=lambda_2):\n",
    "    out = np.zeros(n_data_points)\n",
    "    out[:tau] = lambda_1\n",
    "    out[tau:] = lambda_2\n",
    "    return out"
   ]
  },
  {
   "cell_type": "markdown",
   "metadata": {},
   "source": [
    "위의 식에서 $\\tau, \\lambda_1, \\lambda_2$를 안다면 $\\lambda$를 알 수 있는 것은 당연한 사실이다. 따라서 $\\lambda$는 deterministic 변수이다.\n",
    "\n",
    "deterministic 데코레이터 내부에서 stochastic 변수는 stochastic 변수가 아니라 스칼라나 numpy 배열(다변량인 경우) 처럼 작동한다."
   ]
  },
  {
   "cell_type": "code",
   "execution_count": 10,
   "metadata": {
    "scrolled": true
   },
   "outputs": [
    {
     "ename": "AttributeError",
     "evalue": "'numpy.ndarray' object has no attribute 'value'",
     "output_type": "error",
     "traceback": [
      "\u001b[0;31m---------------------------------------------------------------------------\u001b[0m",
      "\u001b[0;31mAttributeError\u001b[0m                            Traceback (most recent call last)",
      "\u001b[0;32m<ipython-input-10-68238d2a9fcd>\u001b[0m in \u001b[0;36m<module>\u001b[0;34m()\u001b[0m\n\u001b[1;32m      1\u001b[0m \u001b[0;34m@\u001b[0m\u001b[0mpm\u001b[0m\u001b[0;34m.\u001b[0m\u001b[0mdeterministic\u001b[0m\u001b[0;34m\u001b[0m\u001b[0m\n\u001b[0;32m----> 2\u001b[0;31m \u001b[0;32mdef\u001b[0m \u001b[0msome_deterministic\u001b[0m\u001b[0;34m(\u001b[0m\u001b[0mstoch\u001b[0m\u001b[0;34m=\u001b[0m\u001b[0msome_variable\u001b[0m\u001b[0;34m)\u001b[0m\u001b[0;34m:\u001b[0m\u001b[0;34m\u001b[0m\u001b[0m\n\u001b[0m\u001b[1;32m      3\u001b[0m     \u001b[0;32mreturn\u001b[0m \u001b[0mstoch\u001b[0m\u001b[0;34m.\u001b[0m\u001b[0mvalue\u001b[0m\u001b[0;34m**\u001b[0m\u001b[0;36m2\u001b[0m\u001b[0;34m\u001b[0m\u001b[0m\n",
      "\u001b[0;32m/Library/Frameworks/Python.framework/Versions/2.7/lib/python2.7/site-packages/pymc/InstantiationDecorators.pyc\u001b[0m in \u001b[0;36mdeterministic\u001b[0;34m(__func__, **kwds)\u001b[0m\n\u001b[1;32m    248\u001b[0m \u001b[0;34m\u001b[0m\u001b[0m\n\u001b[1;32m    249\u001b[0m     \u001b[0;32mif\u001b[0m \u001b[0m__func__\u001b[0m\u001b[0;34m:\u001b[0m\u001b[0;34m\u001b[0m\u001b[0m\n\u001b[0;32m--> 250\u001b[0;31m         \u001b[0;32mreturn\u001b[0m \u001b[0minstantiate_n\u001b[0m\u001b[0;34m(\u001b[0m\u001b[0m__func__\u001b[0m\u001b[0;34m)\u001b[0m\u001b[0;34m\u001b[0m\u001b[0m\n\u001b[0m\u001b[1;32m    251\u001b[0m \u001b[0;34m\u001b[0m\u001b[0m\n\u001b[1;32m    252\u001b[0m     \u001b[0;32mreturn\u001b[0m \u001b[0minstantiate_n\u001b[0m\u001b[0;34m\u001b[0m\u001b[0m\n",
      "\u001b[0;32m/Library/Frameworks/Python.framework/Versions/2.7/lib/python2.7/site-packages/pymc/InstantiationDecorators.pyc\u001b[0m in \u001b[0;36minstantiate_n\u001b[0;34m(__func__)\u001b[0m\n\u001b[1;32m    241\u001b[0m         junk, parents = _extract(\n\u001b[1;32m    242\u001b[0m             __func__, kwds, keys, 'Deterministic', probe=False)\n\u001b[0;32m--> 243\u001b[0;31m         \u001b[0;32mreturn\u001b[0m \u001b[0mDeterministic\u001b[0m\u001b[0;34m(\u001b[0m\u001b[0mparents\u001b[0m\u001b[0;34m=\u001b[0m\u001b[0mparents\u001b[0m\u001b[0;34m,\u001b[0m \u001b[0;34m**\u001b[0m\u001b[0mkwds\u001b[0m\u001b[0;34m)\u001b[0m\u001b[0;34m\u001b[0m\u001b[0m\n\u001b[0m\u001b[1;32m    244\u001b[0m \u001b[0;34m\u001b[0m\u001b[0m\n\u001b[1;32m    245\u001b[0m     \u001b[0mkeys\u001b[0m \u001b[0;34m=\u001b[0m \u001b[0;34m[\u001b[0m\u001b[0;34m'eval'\u001b[0m\u001b[0;34m]\u001b[0m\u001b[0;34m\u001b[0m\u001b[0m\n",
      "\u001b[0;32m/Library/Frameworks/Python.framework/Versions/2.7/lib/python2.7/site-packages/pymc/PyMCObjects.pyc\u001b[0m in \u001b[0;36m__init__\u001b[0;34m(self, eval, doc, name, parents, dtype, trace, cache_depth, plot, verbose, jacobians, jacobian_formats)\u001b[0m\n\u001b[1;32m    441\u001b[0m                           \u001b[0mtrace\u001b[0m\u001b[0;34m=\u001b[0m\u001b[0mtrace\u001b[0m\u001b[0;34m,\u001b[0m\u001b[0;34m\u001b[0m\u001b[0m\n\u001b[1;32m    442\u001b[0m                           \u001b[0mplot\u001b[0m\u001b[0;34m=\u001b[0m\u001b[0mplot\u001b[0m\u001b[0;34m,\u001b[0m\u001b[0;34m\u001b[0m\u001b[0m\n\u001b[0;32m--> 443\u001b[0;31m                           verbose=verbose)\n\u001b[0m\u001b[1;32m    444\u001b[0m \u001b[0;34m\u001b[0m\u001b[0m\n\u001b[1;32m    445\u001b[0m         \u001b[0;31m# self._value.force_compute()\u001b[0m\u001b[0;34m\u001b[0m\u001b[0;34m\u001b[0m\u001b[0m\n",
      "\u001b[0;32m/Library/Frameworks/Python.framework/Versions/2.7/lib/python2.7/site-packages/pymc/Node.pyc\u001b[0m in \u001b[0;36m__init__\u001b[0;34m(self, doc, name, parents, cache_depth, trace, dtype, plot, verbose)\u001b[0m\n\u001b[1;32m    212\u001b[0m         \u001b[0mself\u001b[0m\u001b[0;34m.\u001b[0m\u001b[0mextended_children\u001b[0m \u001b[0;34m=\u001b[0m \u001b[0mset\u001b[0m\u001b[0;34m(\u001b[0m\u001b[0;34m)\u001b[0m\u001b[0;34m\u001b[0m\u001b[0m\n\u001b[1;32m    213\u001b[0m \u001b[0;34m\u001b[0m\u001b[0m\n\u001b[0;32m--> 214\u001b[0;31m         \u001b[0mNode\u001b[0m\u001b[0;34m.\u001b[0m\u001b[0m__init__\u001b[0m\u001b[0;34m(\u001b[0m\u001b[0mself\u001b[0m\u001b[0;34m,\u001b[0m \u001b[0mdoc\u001b[0m\u001b[0;34m,\u001b[0m \u001b[0mname\u001b[0m\u001b[0;34m,\u001b[0m \u001b[0mparents\u001b[0m\u001b[0;34m,\u001b[0m \u001b[0mcache_depth\u001b[0m\u001b[0;34m,\u001b[0m \u001b[0mverbose\u001b[0m\u001b[0;34m=\u001b[0m\u001b[0mverbose\u001b[0m\u001b[0;34m)\u001b[0m\u001b[0;34m\u001b[0m\u001b[0m\n\u001b[0m\u001b[1;32m    215\u001b[0m \u001b[0;34m\u001b[0m\u001b[0m\n\u001b[1;32m    216\u001b[0m         \u001b[0;32mif\u001b[0m \u001b[0mself\u001b[0m\u001b[0;34m.\u001b[0m\u001b[0mdtype\u001b[0m \u001b[0;32mis\u001b[0m \u001b[0mNone\u001b[0m\u001b[0;34m:\u001b[0m\u001b[0;34m\u001b[0m\u001b[0m\n",
      "\u001b[0;32m/Library/Frameworks/Python.framework/Versions/2.7/lib/python2.7/site-packages/pymc/Node.pyc\u001b[0m in \u001b[0;36m__init__\u001b[0;34m(self, doc, name, parents, cache_depth, verbose)\u001b[0m\n\u001b[1;32m    127\u001b[0m \u001b[0;34m\u001b[0m\u001b[0m\n\u001b[1;32m    128\u001b[0m         \u001b[0;31m# Initialize\u001b[0m\u001b[0;34m\u001b[0m\u001b[0;34m\u001b[0m\u001b[0m\n\u001b[0;32m--> 129\u001b[0;31m         \u001b[0mself\u001b[0m\u001b[0;34m.\u001b[0m\u001b[0mparents\u001b[0m \u001b[0;34m=\u001b[0m \u001b[0mparents\u001b[0m\u001b[0;34m\u001b[0m\u001b[0m\n\u001b[0m\u001b[1;32m    130\u001b[0m \u001b[0;34m\u001b[0m\u001b[0m\n\u001b[1;32m    131\u001b[0m     \u001b[0;32mdef\u001b[0m \u001b[0m_get_parents\u001b[0m\u001b[0;34m(\u001b[0m\u001b[0mself\u001b[0m\u001b[0;34m)\u001b[0m\u001b[0;34m:\u001b[0m\u001b[0;34m\u001b[0m\u001b[0m\n",
      "\u001b[0;32m/Library/Frameworks/Python.framework/Versions/2.7/lib/python2.7/site-packages/pymc/Node.pyc\u001b[0m in \u001b[0;36m_set_parents\u001b[0;34m(self, new_parents)\u001b[0m\n\u001b[1;32m    145\u001b[0m \u001b[0;34m\u001b[0m\u001b[0m\n\u001b[1;32m    146\u001b[0m         \u001b[0;31m# Get new lazy function\u001b[0m\u001b[0;34m\u001b[0m\u001b[0;34m\u001b[0m\u001b[0m\n\u001b[0;32m--> 147\u001b[0;31m         \u001b[0mself\u001b[0m\u001b[0;34m.\u001b[0m\u001b[0mgen_lazy_function\u001b[0m\u001b[0;34m(\u001b[0m\u001b[0;34m)\u001b[0m\u001b[0;34m\u001b[0m\u001b[0m\n\u001b[0m\u001b[1;32m    148\u001b[0m \u001b[0;34m\u001b[0m\u001b[0m\n\u001b[1;32m    149\u001b[0m     parents = property(\n",
      "\u001b[0;32m/Library/Frameworks/Python.framework/Versions/2.7/lib/python2.7/site-packages/pymc/PyMCObjects.pyc\u001b[0m in \u001b[0;36mgen_lazy_function\u001b[0;34m(self)\u001b[0m\n\u001b[1;32m    452\u001b[0m                                    cache_depth=self._cache_depth)\n\u001b[1;32m    453\u001b[0m \u001b[0;34m\u001b[0m\u001b[0m\n\u001b[0;32m--> 454\u001b[0;31m         \u001b[0mself\u001b[0m\u001b[0;34m.\u001b[0m\u001b[0m_value\u001b[0m\u001b[0;34m.\u001b[0m\u001b[0mforce_compute\u001b[0m\u001b[0;34m(\u001b[0m\u001b[0;34m)\u001b[0m\u001b[0;34m\u001b[0m\u001b[0m\n\u001b[0m\u001b[1;32m    455\u001b[0m \u001b[0;34m\u001b[0m\u001b[0m\n\u001b[1;32m    456\u001b[0m         \u001b[0mself\u001b[0m\u001b[0;34m.\u001b[0m\u001b[0m_jacobians\u001b[0m \u001b[0;34m=\u001b[0m \u001b[0;34m{\u001b[0m\u001b[0;34m}\u001b[0m\u001b[0;34m\u001b[0m\u001b[0m\n",
      "\u001b[0;32mLazyFunction.pyx\u001b[0m in \u001b[0;36mpymc.LazyFunction.LazyFunction.force_compute (pymc/LazyFunction.c:2409)\u001b[0;34m()\u001b[0m\n",
      "\u001b[0;32m<ipython-input-10-68238d2a9fcd>\u001b[0m in \u001b[0;36msome_deterministic\u001b[0;34m(stoch)\u001b[0m\n\u001b[1;32m      1\u001b[0m \u001b[0;34m@\u001b[0m\u001b[0mpm\u001b[0m\u001b[0;34m.\u001b[0m\u001b[0mdeterministic\u001b[0m\u001b[0;34m\u001b[0m\u001b[0m\n\u001b[1;32m      2\u001b[0m \u001b[0;32mdef\u001b[0m \u001b[0msome_deterministic\u001b[0m\u001b[0;34m(\u001b[0m\u001b[0mstoch\u001b[0m\u001b[0;34m=\u001b[0m\u001b[0msome_variable\u001b[0m\u001b[0;34m)\u001b[0m\u001b[0;34m:\u001b[0m\u001b[0;34m\u001b[0m\u001b[0m\n\u001b[0;32m----> 3\u001b[0;31m     \u001b[0;32mreturn\u001b[0m \u001b[0mstoch\u001b[0m\u001b[0;34m.\u001b[0m\u001b[0mvalue\u001b[0m\u001b[0;34m**\u001b[0m\u001b[0;36m2\u001b[0m\u001b[0;34m\u001b[0m\u001b[0m\n\u001b[0m",
      "\u001b[0;31mAttributeError\u001b[0m: 'numpy.ndarray' object has no attribute 'value'"
     ]
    }
   ],
   "source": [
    "@pm.deterministic\n",
    "def some_deterministic(stoch=some_variable):  \n",
    "    return stoch.value**2"
   ]
  },
  {
   "cell_type": "markdown",
   "metadata": {},
   "source": [
    "stoch 가 value 속성을 가지고 있지 않아서 AttributeError가 발생  \n",
    "\n",
    "그래서 ```return stoch ** 2```로 작성하여야 한다."
   ]
  },
  {
   "cell_type": "markdown",
   "metadata": {},
   "source": [
    "### 2.1.3 모델에 관측 포함하기"
   ]
  },
  {
   "cell_type": "markdown",
   "metadata": {},
   "source": [
    "$\\lambda_1$에 대한 사전확률분포는 어떻게 생겼는가?"
   ]
  },
  {
   "cell_type": "code",
   "execution_count": 11,
   "metadata": {},
   "outputs": [
    {
     "data": {
      "text/plain": [
       "(0, 8)"
      ]
     },
     "execution_count": 11,
     "metadata": {},
     "output_type": "execute_result"
    },
    {
     "data": {
      "image/png": "[encoded data removed]",
      "text/plain": [
       "<Figure size 3750x1200 with 1 Axes>"
      ]
     },
     "metadata": {
      "needs_background": "light"
     },
     "output_type": "display_data"
    }
   ],
   "source": [
    "%matplotlib inline\n",
    "from IPython.core.pylabtools import figsize\n",
    "from matplotlib import pyplot as plt\n",
    "\n",
    "figsize(12.5, 4)\n",
    "plt.rcParams['savefig.dpi'] = 300\n",
    "plt.rcParams['figure.dpi'] = 300\n",
    "\n",
    "lambda_1 = pm.Exponential(\"lambda_1\", 1)\n",
    "samples = [lambda_1.random() for i in range(20000)]\n",
    "plt.hist(samples, bins=70, density=True, histtype='stepfilled')\n",
    "plt.title(u'$\\lambda_1$에 대한 사전확률분포')\n",
    "plt.xlabel(u'값')\n",
    "plt.ylabel(u'밀도')\n",
    "plt.xlim(0, 8)"
   ]
  },
  {
   "cell_type": "markdown",
   "metadata": {},
   "source": [
    "데이터/증거/관측치 X를 모델에 포함시는 것\n",
    "\n",
    "PyMC 확률변수는 boolean을 받는 추가 키워드 인수 observed 를 가진다.\n",
    "\n",
    "변수 생성 시 초기값을 명시해야하며, 우리가 포함하고자하는 관측값과 같아야 한다."
   ]
  },
  {
   "cell_type": "code",
   "execution_count": 12,
   "metadata": {},
   "outputs": [
    {
     "name": "stdout",
     "output_type": "stream",
     "text": [
      "('value:', array([10,  5]))\n",
      "calling .random()\n",
      "('value: ', array([10,  5]))\n"
     ]
    }
   ],
   "source": [
    "data = np.array([10, 5])\n",
    "fixed_variable = pm.Poisson('fxd', 1, value=data, observed=True)\n",
    "\n",
    "print('value:', fixed_variable.value)\n",
    "print(\"calling .random()\")\n",
    "fixed_variable.random()\n",
    "print(\"value: \", fixed_variable.value)"
   ]
  },
  {
   "cell_type": "markdown",
   "metadata": {},
   "source": [
    "확률변수가 고정값을 갖도록 초기화\n",
    "\n",
    "문자 메시지 예제를 완성하려면 PyMC 변수 observation을 관측된 데이터셋에 고정시킨다."
   ]
  },
  {
   "cell_type": "code",
   "execution_count": 13,
   "metadata": {},
   "outputs": [
    {
     "name": "stdout",
     "output_type": "stream",
     "text": [
      "[10 25 15 20 35]\n"
     ]
    }
   ],
   "source": [
    "data = np.array([10, 25, 15, 20, 35])\n",
    "obs = pm.Poisson('obs', lambda_, value=data, observed=True)\n",
    "print(obs.value)"
   ]
  },
  {
   "cell_type": "markdown",
   "metadata": {},
   "source": [
    "### 2.1.4 마지막으로"
   ]
  },
  {
   "cell_type": "markdown",
   "metadata": {},
   "source": [
    "pm.Model 클래스로 만들어야 한다.\n",
    "\n",
    "이 Model 클래스를 사용하여 변수를 하나의 단위로 분석할수 있다."
   ]
  },
  {
   "cell_type": "code",
   "execution_count": 14,
   "metadata": {},
   "outputs": [],
   "source": [
    "model = pm.Model([obs, lambda_, lambda_1, lambda_2, tau])"
   ]
  }
 ],
 "metadata": {
  "kernelspec": {
   "display_name": "Python 2",
   "language": "python",
   "name": "python2"
  },
  "language_info": {
   "codemirror_mode": {
    "name": "ipython",
    "version": 2
   },
   "file_extension": ".py",
   "mimetype": "text/x-python",
   "name": "python",
   "nbconvert_exporter": "python",
   "pygments_lexer": "ipython2",
   "version": "2.7.15"
  }
 },
 "nbformat": 4,
 "nbformat_minor": 2
}
