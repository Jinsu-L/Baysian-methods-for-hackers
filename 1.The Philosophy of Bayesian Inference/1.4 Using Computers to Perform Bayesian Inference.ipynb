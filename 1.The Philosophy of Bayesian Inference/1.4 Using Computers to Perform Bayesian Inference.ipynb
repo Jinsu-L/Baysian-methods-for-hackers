{
 "cells": [
  {
   "cell_type": "code",
   "execution_count": 1,
   "metadata": {},
   "outputs": [],
   "source": [
    "import sys\n",
    "# sys.setdefaultencoding() does not exist, here!\n",
    "reload(sys)  # Reload does the trick!\n",
    "sys.setdefaultencoding('utf-8')"
   ]
  },
  {
   "cell_type": "code",
   "execution_count": 2,
   "metadata": {},
   "outputs": [],
   "source": [
    "%matplotlib inline\n",
    "from IPython.core. pylabtools import figsize\n",
    "import numpy as np\n",
    "from matplotlib import pyplot as plt\n",
    "import matplotlib"
   ]
  },
  {
   "cell_type": "code",
   "execution_count": 3,
   "metadata": {},
   "outputs": [],
   "source": [
    "matplotlib.rc('font', family='AppleGothic')\n",
    "plt.rcParams['axes.unicode_minus'] = False"
   ]
  },
  {
   "cell_type": "code",
   "execution_count": 4,
   "metadata": {},
   "outputs": [],
   "source": [
    "from matplotlib import font_manager\n",
    "\n",
    "# 폰트 경로가 인식되지 않는 문제가 있다\n",
    "font_dirs = ['/Library/Fonts']\n",
    "font_files = font_manager.findSystemFonts(fontpaths=font_dirs)\n",
    "font_list = font_manager.createFontList(font_files)\n",
    "font_manager.fontManager.ttflist.extend(font_list)"
   ]
  },
  {
   "cell_type": "markdown",
   "metadata": {},
   "source": [
    "## 1.4 컴퓨터를 사용하여 베이지안 추론하기"
   ]
  },
  {
   "cell_type": "markdown",
   "metadata": {},
   "source": [
    "### 1.4.1 예제 : 문자 메시지 데이터에서 행동 추론하기\n",
    "\n",
    "어느 사용자가 매일 주고 받은 문자 메시지를 통하여 사용자의 메시지 습관이 시간별로 서서히 변하는지 갑자기 급변하는지 알고 싶다."
   ]
  },
  {
   "cell_type": "code",
   "execution_count": 5,
   "metadata": {},
   "outputs": [
    {
     "data": {
      "image/png": "[encoded data removed]",
      "text/plain": [
       "<Figure size 900x252 with 1 Axes>"
      ]
     },
     "metadata": {
      "needs_background": "light"
     },
     "output_type": "display_data"
    }
   ],
   "source": [
    "figsize(12.5, 3.5)\n",
    "\n",
    "count_data = np.loadtxt(r\"data/txtdata.csv\")\n",
    "n_count_data = len(count_data)\n",
    "plt.bar(np.arange(n_count_data), count_data, color=\"#348ABD\")\n",
    "plt.xlabel(u\"시간(일수)\",fontsize=13)\n",
    "plt.ylabel(u\"수신한 문자 메시지 개수\",fontsize=13)\n",
    "plt.title(u\"사용자의 메시징 습관이 시간에 따라 변하는가?\")\n",
    "plt.xlim(0, n_count_data);"
   ]
  },
  {
   "cell_type": "markdown",
   "metadata": {},
   "source": [
    "푸아송 분포를 통해서 그림에서 주어진 시간동안 행동의 변화를 모델링  \n",
    "특정일자 $i$의 메시지 개수는 $C_i$로 표시"
   ]
  },
  {
   "cell_type": "markdown",
   "metadata": {},
   "source": [
    "<center>$C_{i} \\sim Poi(\\lambda)$</center>"
   ]
  },
  {
   "cell_type": "markdown",
   "metadata": {},
   "source": [
    "$\\tau$ : 곽측기간 중 어느날  \n",
    "모수 $\\lambda$가 갑자기 더 높은 값으로 확 뛰어 오른다고 가정하면  \n",
    "특정 날짜를 기준으로 모수 $\\lambda$를 2개 가진다.  \n",
    "\n",
    "변환점 : 급잓러운 변화가 일어나는 지점  "
   ]
  },
  {
   "cell_type": "markdown",
   "metadata": {},
   "source": [
    "<center>$\\lambda =\n",
    "\\begin{cases}\n",
    "\\lambda_1, & if t < \\tau \\\\\n",
    "\\lambda_2, & if t \\ge \\tau\n",
    "\\end{cases}$</center>"
   ]
  },
  {
   "cell_type": "markdown",
   "metadata": {},
   "source": [
    "$\\lambda$를 추론할려고 함, 베이지안 추론을 사용하기 위해 $\\lambda$의 여러 가능한 값에 사전확률을할당 해야함  \n",
    "\n",
    "이를 지수분포를 통해서 모델링, 지수분포의 모수 $\\alpha$"
   ]
  },
  {
   "cell_type": "markdown",
   "metadata": {},
   "source": [
    "$\\alpha$는 초모수 또는 부모변수  \n"
   ]
  },
  {
   "cell_type": "markdown",
   "metadata": {},
   "source": [
    "<center>$\\lambda_{1} \\sim Exp(\\alpha)$</center>\n",
    "<center>$\\lambda_{2} \\sim Exp(\\alpha)$</center>"
   ]
  },
  {
   "cell_type": "markdown",
   "metadata": {},
   "source": [
    "$\\alpha$를 개수 데이터 평균의 역수가 되도록 설정"
   ]
  },
  {
   "cell_type": "markdown",
   "metadata": {},
   "source": [
    "<center>${1\\over N} \\sum_{i = 0}^N C_i \\approx E[\\lambda|\\alpha] = {1\\over\\alpha}$</center>"
   ]
  },
  {
   "cell_type": "markdown",
   "metadata": {},
   "source": [
    "$\\tau$가 발생할 경우 데이터 노이즈 때문에 사전확률을 알아내기 어렵다.  \n",
    "대신 모든말에 대하여 **똑같은 사전 믿음**을 할당할 수 있다."
   ]
  },
  {
   "cell_type": "markdown",
   "metadata": {},
   "source": [
    "<center>$\\tau \\sim DiscreteUniform(1, 70)$</center>"
   ]
  },
  {
   "cell_type": "markdown",
   "metadata": {},
   "source": [
    "<center>$\\rightarrow P(\\tau = k) = {1\\over70}$</center>"
   ]
  },
  {
   "cell_type": "markdown",
   "metadata": {},
   "source": [
    "### 1.4.2 PyMC"
   ]
  },
  {
   "cell_type": "markdown",
   "metadata": {},
   "source": [
    "PyMC는 베이지안 분석 프로그래밍을 위한 파이썬라이브러리  "
   ]
  },
  {
   "cell_type": "code",
   "execution_count": 6,
   "metadata": {},
   "outputs": [],
   "source": [
    "import pymc as pm\n",
    "\n",
    "# count_data 변수는 문자메시지 갯수를 저장하고 있다\n",
    "alpha = 1.0 / count_data.mean()\n",
    "lambda_1 = pm.Exponential(\"lambda_1\", alpha)\n",
    "lambda_2 = pm.Exponential(\"lambda_2\", alpha)\n",
    "\n",
    "tau = pm.DiscreteUniform(\"tau\", lower=0, upper=n_count_data)"
   ]
  },
  {
   "cell_type": "code",
   "execution_count": 7,
   "metadata": {},
   "outputs": [],
   "source": [
    "print(\"Random output:\", tau.random(), tau.random(), tau.random())"
   ]
  },
  {
   "cell_type": "code",
   "execution_count": 8,
   "metadata": {},
   "outputs": [],
   "source": [
    "@pm.deterministic\n",
    "def lambda_(tau=tau, lambda_1=lambda_1, lambda_2=lambda_2):\n",
    "    out = np.zeros(n_count_data)\n",
    "    out[:tau] = lambda_1  # lambda1은 tau 이전 lambda이다\n",
    "    out[tau:] = lambda_2  # lambda2는 tau 이후 lambda이다\n",
    "    return out"
   ]
  },
  {
   "cell_type": "code",
   "execution_count": 9,
   "metadata": {},
   "outputs": [],
   "source": [
    "observation = pm.Poisson(\"obs\", mu=lambda_, value=count_data, observed=True)\n",
    "\n",
    "model = pm.Model([observation, lambda_1, lambda_2, tau])"
   ]
  },
  {
   "cell_type": "code",
   "execution_count": 10,
   "metadata": {},
   "outputs": [],
   "source": [
    "mcmc = pm.MCMC(model)\n",
    "mcmc.sample(40000, 10000)"
   ]
  },
  {
   "cell_type": "code",
   "execution_count": 11,
   "metadata": {},
   "outputs": [
    {
     "data": {
      "image/png": "[encoded data removed]",
      "text/plain": [
       "<Figure size 1044x720 with 3 Axes>"
      ]
     },
     "metadata": {
      "needs_background": "light"
     },
     "output_type": "display_data"
    }
   ],
   "source": [
    "lambda_1_samples = mcmc.trace('lambda_1')[:]\n",
    "lambda_2_samples = mcmc.trace('lambda_2')[:]\n",
    "tau_samples = mcmc.trace('tau')[:]\n",
    "\n",
    "figsize(14.5, 10)\n",
    "# 표본의 히스토그램:\n",
    "\n",
    "ax = plt.subplot(311)\n",
    "ax.set_autoscaley_on(False)\n",
    "\n",
    "plt.hist(lambda_1_samples, histtype='stepfilled', bins=30, alpha=0.85,\n",
    "         label=\"$\\lambda_1$의 사후확률분포\", color=\"#A60628\", normed=True)\n",
    "plt.legend(loc=\"upper left\")\n",
    "plt.title(r\"모수 $\\lambda_1,\\;\\lambda_2,\\;\\tau$의 사후확률분포\")\n",
    "plt.xlim([15, 30])\n",
    "plt.xlabel(\"$\\lambda_1$ 값\")\n",
    "plt.ylabel(u\"밀도\", fontsize=13)\n",
    "ax = plt.subplot(312)\n",
    "ax.set_autoscaley_on(False)\n",
    "plt.hist(lambda_2_samples, histtype='stepfilled', bins=30, alpha=0.85,\n",
    "         label=\"$\\lambda_2$의 사후확률분포\", color=\"#7A68A6\", normed=True)\n",
    "plt.legend(loc=\"upper left\")\n",
    "plt.xlim([15, 30])\n",
    "plt.xlabel(\"$\\lambda_2$ 값\")\n",
    "plt.ylabel(u\"밀도\",fontsize=13)\n",
    "\n",
    "plt.subplot(313)\n",
    "w = 1.0 / tau_samples.shape[0] * np.ones_like(tau_samples)\n",
    "plt.hist(tau_samples, bins=n_count_data, alpha=1,\n",
    "         label=r\"$\\tau$의 사후확률분포\",\n",
    "         color=\"#467821\", weights=w, rwidth=2.)\n",
    "plt.xticks(np.arange(n_count_data))\n",
    "\n",
    "plt.legend(loc=\"upper left\")\n",
    "plt.ylim([0, .75])\n",
    "plt.xlim([35, len(count_data) - 20])\n",
    "plt.xlabel(r\"$\\tau$ (일수)\",fontsize=13)\n",
    "plt.ylabel(u\"확률\",fontsize=13);"
   ]
  },
  {
   "cell_type": "markdown",
   "metadata": {},
   "source": [
    "### 1.4.3 해석"
   ]
  },
  {
   "cell_type": "markdown",
   "metadata": {},
   "source": [
    "베이지안 방법론은 분포를 반환\n",
    "* $\\lambda$와 $\\tau$를 분포로써 표현  \n",
    "* 추정에서 불확실성을 표현"
   ]
  },
  {
   "cell_type": "markdown",
   "metadata": {},
   "source": [
    "### 1.4.4 사후확률분포에서 얻은 표본에는 어떤 좋은 점이 있는가?"
   ]
  },
  {
   "cell_type": "markdown",
   "metadata": {},
   "source": [
    "날짜 $t (0 \\le t \\le 70)$에서 문자메시지 개수의 기대값은 얼마인가?  \n",
    "푸아송 분포의 기대값은 그 분포의 모수 $\\lambda$와 같음  "
   ]
  },
  {
   "cell_type": "code",
   "execution_count": 13,
   "metadata": {},
   "outputs": [
    {
     "data": {
      "image/png": "[encoded data removed]",
      "text/plain": [
       "<Figure size 900x360 with 1 Axes>"
      ]
     },
     "metadata": {
      "needs_background": "light"
     },
     "output_type": "display_data"
    }
   ],
   "source": [
    "figsize(12.5, 5)\n",
    "# tau_samples, lambda_1_samples, lambda_2_samples은 \n",
    "# 해당 사후확률분포에서 얻은 N 개의 표본은 가진다.\n",
    "N = tau_samples.shape[0]\n",
    "expected_texts_per_day = np.zeros(n_count_data) # number of data points #데이터 포인트 수\n",
    "for day in range(0, n_count_data):\n",
    "    # ix 는'day'값이전에 발생한 스위치포인트(switchpoint)에 해당하는 \n",
    "    # 모든 tau표본의 boolean 인덱스이다. \n",
    "    ix = day < tau_samples\n",
    "    # 각 사후확률분포의 표본은 tau값에 해당한다. tau값은 스위치포인트 이전인지(lambda1)\n",
    "    # 이후인지(lambda2)을 가리킨다\n",
    "    # lambda1/2의 사후확률분포 표본을 취함으로써 우리는 모든 표본을 평균하여 그날의 \n",
    "    # lambda 기대값을 얻을 수 있다.\n",
    "    # 설명한 바와 같이 문자메시지 갯수 랜덤변수는 포아송분포를 따른다. \n",
    "    # 그러므로 lambda(포아송 모수)는 메시지갯수의 기대값이다.\n",
    "    expected_texts_per_day[day] = (lambda_1_samples[ix].sum()\n",
    "                                   + lambda_2_samples[~ix].sum()) / N\n",
    "\n",
    "\n",
    "plt.plot(range(n_count_data), expected_texts_per_day, lw=4, color=\"#E24A33\",\n",
    "         label=\"수신한 문자 메시지 기댓값\")\n",
    "plt.xlim(0, n_count_data)\n",
    "plt.xlabel(u\"일\", fontsize=13)\n",
    "plt.ylabel(u\"문자 메시지의 개수\", fontsize=13)\n",
    "#plt.title(\"수신한 문자메시지 기댓값\")\n",
    "plt.ylim(0, 60)\n",
    "plt.bar(np.arange(len(count_data)), count_data, color=\"#348ABD\", alpha=0.65,\n",
    "        label=\"관측한 문자 메시지 개수(하루당)\")\n",
    "\n",
    "plt.legend(loc=\"upper left\");\n",
    "print (expected_texts_per_day)"
   ]
  }
 ],
 "metadata": {
  "kernelspec": {
   "display_name": "Python 2",
   "language": "python",
   "name": "python2"
  },
  "language_info": {
   "codemirror_mode": {
    "name": "ipython",
    "version": 2
   },
   "file_extension": ".py",
   "mimetype": "text/x-python",
   "name": "python",
   "nbconvert_exporter": "python",
   "pygments_lexer": "ipython2",
   "version": "2.7.15"
  }
 },
 "nbformat": 4,
 "nbformat_minor": 2
}
