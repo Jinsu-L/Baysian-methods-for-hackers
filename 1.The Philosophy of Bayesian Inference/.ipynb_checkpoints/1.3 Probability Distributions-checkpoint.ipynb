{
 "cells": [
  {
   "cell_type": "code",
   "execution_count": 1,
   "metadata": {},
   "outputs": [],
   "source": [
    "%matplotlib inline\n",
    "from IPython.core. pylabtools import figsize\n",
    "import numpy as np\n",
    "from matplotlib import pyplot as plt\n",
    "import matplotlib\n",
    "matplotlib.rc('font', family='AppleGothic')"
   ]
  },
  {
   "cell_type": "markdown",
   "metadata": {},
   "source": [
    "## 1.3 확률분포"
   ]
  },
  {
   "cell_type": "markdown",
   "metadata": {},
   "source": [
    "* 표본 공간 : 나타날 수 있는 모든 가능한 사건의 집합\n",
    "* 확률 변수 : 표본공간에서 일정한 확률을 가지고 발생하는 사건에 수치를 일대일 대응시킨 함수\n",
    "* 확률 분포 함수 : 확률 변수가 가지는 여러 결과에 확률을 나타내는 함수\n",
    "    * 확률변수가 이산적인 경우 => 이산확률변수 : 특정한 값들의 목록에서 값을 취한다고 가정\n",
    "    * 확률변수가 연속적인 경우 => 연속확률변수 : 임의적인 값을 가짐\n",
    "    * 확률변수가 혼합적인 경우 => 혼합확률변수 : 이산확률변수와 연속확률변수 모두에 확률을 부여\n",
    "   "
   ]
  },
  {
   "cell_type": "markdown",
   "metadata": {},
   "source": [
    "### 1.3.1 이산적인 경우"
   ]
  },
  {
   "cell_type": "markdown",
   "metadata": {},
   "source": [
    "확률변수가 이산적이라면 그 분포를 확률질량함수라고 한다.  \n",
    "확률질량함수는 확률변수가 특정값K를 취할 때 확률, P(Z = k)를 나타낸다.  \n",
    "확률질량함수는 확률변수를 완벽하게 설명한다. => 질량함수를 안다면 Z가 어떻게 움직일지도 안다.\n",
    "\n",
    "ex) 확률질량함수의 예 (푸아송 분포)"
   ]
  },
  {
   "cell_type": "markdown",
   "metadata": {},
   "source": [
    "<center>$P(Z = k) = {\\lambda ^{k} e^{-\\lambda}\\over k!} , k = 0, 1, 2, ...$</center>"
   ]
  },
  {
   "cell_type": "markdown",
   "metadata": {},
   "source": [
    "$\\lambda$는 분포의 모수, 분포 모양을 결정, 양수, 값을 늘리면 큰 값에 더 많은 확률을 부여  \n",
    "$\\lambda$는 푸아송분포의 밀도를 나타냄  \n",
    "\n",
    "k는 음수가 아닌 정수"
   ]
  },
  {
   "cell_type": "markdown",
   "metadata": {},
   "source": [
    "<center>$Z \\sim Poi(\\lambda)$</center>"
   ]
  },
  {
   "cell_type": "markdown",
   "metadata": {},
   "source": [
    "<center>$E[Z|\\lambda] = \\lambda$</center>"
   ]
  },
  {
   "cell_type": "code",
   "execution_count": 5,
   "metadata": {},
   "outputs": [
    {
     "data": {
      "text/plain": [
       "Text(0.5, 0, '$k$')"
      ]
     },
     "execution_count": 5,
     "metadata": {},
     "output_type": "execute_result"
    },
    {
     "data": {
      "image/png": "[encoded data removed]",
      "text/plain": [
       "<Figure size 900x288 with 1 Axes>"
      ]
     },
     "metadata": {
      "needs_background": "light"
     },
     "output_type": "display_data"
    }
   ],
   "source": [
    "figsize(12.5, 4)\n",
    "\n",
    "import scipy.stats as stats\n",
    "a = np.arange(16)\n",
    "poi = stats.poisson\n",
    "lambda_ = [1.5, 4.25]\n",
    "colours = [\"#348ABD\", \"#A60628\"]\n",
    "\n",
    "plt.bar(a, poi.pmf(a, lambda_[0]), color=colours[0],\n",
    "        label=\"$\\lambda = %.1f$\" % lambda_[0], alpha=0.60,\n",
    "        edgecolor=colours[0], lw=\"3\")\n",
    "\n",
    "plt.bar(a, poi.pmf(a, lambda_[1]), color=colours[1],\n",
    "        label=\"$\\lambda = %.1f$\" % lambda_[1], alpha=0.60,\n",
    "        edgecolor=colours[1], lw=\"3\")\n",
    "\n",
    "plt.xticks(a + 0.4, a)\n",
    "plt.legend()\n",
    "plt.ylabel(\"$k$의 확률\", fontsize=13)\n",
    "plt.xlabel(\"$k$\", fontsize=13)"
   ]
  },
  {
   "cell_type": "markdown",
   "metadata": {},
   "source": [
    "### 1.3.2 연속적인 경우"
   ]
  },
  {
   "cell_type": "code",
   "execution_count": null,
   "metadata": {},
   "outputs": [],
   "source": []
  }
 ],
 "metadata": {
  "kernelspec": {
   "display_name": "Python 3",
   "language": "python",
   "name": "python3"
  },
  "language_info": {
   "codemirror_mode": {
    "name": "ipython",
    "version": 3
   },
   "file_extension": ".py",
   "mimetype": "text/x-python",
   "name": "python",
   "nbconvert_exporter": "python",
   "pygments_lexer": "ipython3",
   "version": "3.7.2"
  }
 },
 "nbformat": 4,
 "nbformat_minor": 2
}
