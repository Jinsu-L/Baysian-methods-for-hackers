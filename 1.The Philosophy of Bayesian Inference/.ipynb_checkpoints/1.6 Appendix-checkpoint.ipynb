{
 "cells": [
  {
   "cell_type": "code",
   "execution_count": 1,
   "metadata": {},
   "outputs": [],
   "source": [
    "import sys\n",
    "stdout = sys.stdout\n",
    "reload(sys)\n",
    "sys.setdefaultencoding('utf-8')\n",
    "sys.stdout = stdout"
   ]
  },
  {
   "cell_type": "code",
   "execution_count": 2,
   "metadata": {},
   "outputs": [],
   "source": [
    "%matplotlib inline\n",
    "from IPython.core. pylabtools import figsize\n",
    "import numpy as np\n",
    "from matplotlib import pyplot as plt\n",
    "import matplotlib"
   ]
  },
  {
   "cell_type": "code",
   "execution_count": 3,
   "metadata": {},
   "outputs": [],
   "source": [
    "matplotlib.rc('font', family='AppleGothic')\n",
    "plt.rcParams['axes.unicode_minus'] = False"
   ]
  },
  {
   "cell_type": "code",
   "execution_count": 4,
   "metadata": {},
   "outputs": [
    {
     "name": "stdout",
     "output_type": "stream",
     "text": [
      "('Random output:', array(37), array(4), array(35))\n",
      " [-----------------100%-----------------] 40000 of 40000 complete in 3.6 sec"
     ]
    }
   ],
   "source": [
    "### 1.4 파트에서 이어지는 부분\n",
    "\n",
    "import pymc as pm\n",
    "\n",
    "count_data = np.loadtxt('./data/txtdata.csv')\n",
    "n_count_data = len(count_data)\n",
    "\n",
    "alpha = 1.0/count_data.mean()  # count_data 변수는 문자 메시지 개수를 저장\n",
    "lambda_1 = pm.Exponential('lambda_1', alpha)\n",
    "lambda_2 = pm.Exponential('lambda_2', alpha)\n",
    "\n",
    "tau = pm.DiscreteUniform('tau', lower=0, upper=n_count_data)\n",
    "print('Random output:', tau.random(), tau.random(), tau.random())\n",
    "\n",
    "@pm.deterministic\n",
    "def lambda_(tau=tau, lambda_1=lambda_1, lambda_2=lambda_2):\n",
    "    out = np.zeros(n_count_data)\n",
    "    out[:tau] = lambda_1  # lambda_1은 tau 이전 lambda\n",
    "    out[tau:] = lambda_2  # lambda_2는 tau 이후 lambda\n",
    "    return out\n",
    "\n",
    "observation = pm.Poisson('obs', lambda_, value=count_data, observed=True)\n",
    "model = pm.Model([observation, lambda_1, lambda_2, tau])\n",
    "\n",
    "mcmc = pm.MCMC(model)\n",
    "mcmc.sample(40000, 10000)\n",
    "\n",
    "lambda_1_samples = mcmc.trace('lambda_1')[:]\n",
    "lambda_2_samples = mcmc.trace('lambda_2')[:]\n",
    "tau_samples = mcmc.trace('tau')[:]"
   ]
  },
  {
   "cell_type": "markdown",
   "metadata": {},
   "source": [
    "## 1.6 부록\n",
    "### 1.6.1 두 $\\lambda$가 정말 다른지 통계적으로 알 수 있나?"
   ]
  },
  {
   "cell_type": "markdown",
   "metadata": {},
   "source": [
    "문자 메시지 예제에서 $\\lambda_1$과 $\\lambda_2$의 사후 확률 분포를 시각적으로 조사하여 다르다는 것을 밝힘  \n",
    "하지만, 이게 사실이 아니라면? 두 분포가 부분적으로 겹친다면?  \n",
    "1. $P(\\lambda_1 < \\lambda_2 | data)$를 계산, 즉 우리가 관측한 데이터가 주어진 상황에서 $\\lambda_1$의 진짜 값이 $\\lambda_2$보다 작을 확률은 얼마인가?  \n",
    "-> 만일 이 숫자가 50%에 가깝다면, 두 값 사이에 정말로 차이가 있다는 것을 확신할 수 없다.  \n",
    "\n"
   ]
  },
  {
   "cell_type": "code",
   "execution_count": 5,
   "metadata": {},
   "outputs": [
    {
     "name": "stdout",
     "output_type": "stream",
     "text": [
      "[ True  True  True ...  True  True  True]\n"
     ]
    }
   ],
   "source": [
    "print(lambda_1_samples < lambda_2_samples)"
   ]
  },
  {
   "cell_type": "code",
   "execution_count": 6,
   "metadata": {},
   "outputs": [
    {
     "name": "stdout",
     "output_type": "stream",
     "text": [
      "30000\n",
      "30000\n"
     ]
    }
   ],
   "source": [
    "# 얼마나 자주 발생하는가?\n",
    "print((lambda_1_samples < lambda_2_samples).sum())\n",
    "\n",
    "# 표본이 얼마나 있는가?\n",
    "print(len(lambda_1_samples))"
   ]
  },
  {
   "cell_type": "code",
   "execution_count": 7,
   "metadata": {},
   "outputs": [
    {
     "name": "stdout",
     "output_type": "stream",
     "text": [
      "1.0\n"
     ]
    }
   ],
   "source": [
    "# 비율은 확률이다.\n",
    "print((lambda_1_samples < lambda_2_samples).mean())"
   ]
  },
  {
   "cell_type": "markdown",
   "metadata": {},
   "source": [
    "그 값이 최소한 $1, 2, 5, 10$ 차이가 날 확률, $|\\lambda_1 - \\lambda_2|$"
   ]
  },
  {
   "cell_type": "code",
   "execution_count": 8,
   "metadata": {},
   "outputs": [
    {
     "name": "stdout",
     "output_type": "stream",
     "text": [
      "What is the probability the difference is larger than 1? 1.00\n",
      "What is the probability the difference is larger than 2? 1.00\n",
      "What is the probability the difference is larger than 5? 0.48\n",
      "What is the probability the difference is larger than 10? 0.00\n"
     ]
    }
   ],
   "source": [
    "# abs(lambda_1_samples - lambda_2_samples) > d는 불 벡터\n",
    "# 값이 d이상이면, True, 그렇지 않으면 False이다.\n",
    "# 얼마나 자주 발생하는가?를 .mean()을 이용해 구한다.\n",
    "for d in [1, 2, 5, 10]:\n",
    "    v = (abs(lambda_1_samples - lambda_2_samples)>=d).mean()\n",
    "    print(\"What is the probability the difference is larger than {}? {:.2f}\".format(d, v))"
   ]
  },
  {
   "cell_type": "markdown",
   "metadata": {},
   "source": [
    "### 1.6.2 변환점 두 개로 확장하기"
   ]
  },
  {
   "cell_type": "code",
   "execution_count": 9,
   "metadata": {},
   "outputs": [
    {
     "name": "stdout",
     "output_type": "stream",
     "text": [
      " [-----------------100%-----------------] 40000 of 40000 complete in 6.1 sec"
     ]
    }
   ],
   "source": [
    "lambda_1 = pm.Exponential('lambda_1', alpha)\n",
    "lambda_2 = pm.Exponential('lambda_2', alpha)\n",
    "lambda_3 = pm.Exponential('lambda_3', alpha)\n",
    "\n",
    "tau_1 = pm.DiscreteUniform('tau_1', lower=0, upper=n_count_data-1)\n",
    "tau_2 = pm.DiscreteUniform('tau_2', lower=tau_1, upper=n_count_data)\n",
    "\n",
    "@pm.deterministic\n",
    "def lambda_(tau_1=tau_1, tau_2=tau_2, lambda_1=lambda_1, \n",
    "            lambda_2=lambda_2, lambda_3=lambda_3):\n",
    "    out = np.zeros(n_count_data)  # 데이터 포인트의 개수\n",
    "    out[:tau_1] = lambda_1  # lambda_1은 tau_1 이전 \n",
    "    out[tau_1:tau_2] = lambda_2  # lambda_2는 tau_1 ~ tau2\n",
    "    out[tau_2:] = lambda_3  # lambda_3은 tau_2 이후\n",
    "    return out\n",
    "\n",
    "observation = pm.Poisson('obs', lambda_, value=count_data, observed=True)\n",
    "model = pm.Model([observation, lambda_1, lambda_2, lambda_3, tau_1, tau_2])\n",
    "mcmc = pm.MCMC(model)\n",
    "mcmc.sample(40000, 10000)"
   ]
  },
  {
   "cell_type": "code",
   "execution_count": 10,
   "metadata": {},
   "outputs": [],
   "source": [
    "lambda_1_samples = mcmc.trace('lambda_1')[:]\n",
    "lambda_2_samples = mcmc.trace('lambda_2')[:]\n",
    "lambda_3_samples = mcmc.trace('lambda_3')[:]\n",
    "tau_1_samples = mcmc.trace('tau_1')[:]\n",
    "tau_2_samples = mcmc.trace('tau_2')[:]"
   ]
  },
  {
   "cell_type": "code",
   "execution_count": 11,
   "metadata": {},
   "outputs": [
    {
     "data": {
      "image/png": "[encoded data removed]",
      "text/plain": [
       "<Figure size 900x720 with 5 Axes>"
      ]
     },
     "metadata": {
      "needs_background": "light"
     },
     "output_type": "display_data"
    }
   ],
   "source": [
    "figsize(12.5, 10)\n",
    "# histogram of the samples:\n",
    "# 표본의 히스토그램\n",
    "ax = plt.subplot(511)\n",
    "ax.set_autoscaley_on(False)\n",
    "\n",
    "plt.hist(lambda_1_samples, histtype='stepfilled', bins=30, alpha=0.85,\n",
    "         label=u\"$\\lambda_1$의 사후확률분포\", color=\"#A60628\", density=True)\n",
    "plt.legend(loc=\"upper left\")\n",
    "#plt.title(r\"\"\"확장된 문자메시지 모델에서 미지의 모수 5개에 대한 사후확률분포\"\"\")\n",
    "plt.xlim([15, 30])\n",
    "plt.xlabel(u\"$\\lambda_1$ 값\")\n",
    "plt.ylabel(u\"밀도\", fontsize=13)\n",
    "\n",
    "ax = plt.subplot(512)\n",
    "ax.set_autoscaley_on(False)\n",
    "plt.hist(lambda_2_samples, histtype='stepfilled', bins=30, alpha=0.85,\n",
    "         label=u\"$\\lambda_2$의 사후확률분포\", color=\"#7A68A6\", density=True)\n",
    "plt.legend(loc=\"upper left\")\n",
    "plt.xlim([30, 90])\n",
    "plt.xlabel(u\"$\\lambda_2$ 값\")\n",
    "plt.ylabel(u\"밀도\", fontsize=13)\n",
    "\n",
    "ax = plt.subplot(513)\n",
    "ax.set_autoscaley_on(False)\n",
    "plt.hist(lambda_3_samples, histtype='stepfilled', bins=30, alpha=0.85,\n",
    "         label=u\"$\\lambda_3$의 사후확률분포\", color=\"#7A68A6\", density=True)\n",
    "plt.legend(loc=\"upper left\")\n",
    "plt.xlim([17, 24])\n",
    "plt.xlabel(u\"$\\lambda_3$ 값\")\n",
    "plt.ylabel(u\"밀도\", fontsize=13)\n",
    "\n",
    "plt.subplot(514)\n",
    "w = 1.0 / tau_1_samples.shape[0] * np.ones_like(tau_1_samples)\n",
    "plt.hist(tau_1_samples, bins=n_count_data, alpha=1,\n",
    "         label=r\"$\\tau_1$의 사후확률분포\",\n",
    "         color=\"#467821\", weights=w, rwidth=2.)\n",
    "plt.xticks(np.arange(n_count_data))\n",
    "plt.legend(loc=\"upper left\")\n",
    "plt.ylim([0, 1])\n",
    "plt.xlim([40, 50])\n",
    "\n",
    "plt.xlabel(u\"일\", fontsize=13)\n",
    "plt.ylabel(u\"확률\", fontsize=13)\n",
    "\n",
    "plt.subplot(515)\n",
    "w = 1.0 / tau_2_samples.shape[0] * np.ones_like(tau_2_samples)\n",
    "plt.hist(tau_2_samples, bins=n_count_data, alpha=1,\n",
    "         label=u\"$\\tau_2$의 사후확률분포\",\n",
    "         color=\"#467821\", weights=w, rwidth=2.)\n",
    "plt.xticks(np.arange(n_count_data))\n",
    "\n",
    "plt.legend(loc=\"upper left\")\n",
    "plt.ylim([0, 1])\n",
    "plt.xlim([40, 50])\n",
    "plt.xlabel(u\"일\")\n",
    "plt.ylabel(u\"확률\");"
   ]
  }
 ],
 "metadata": {
  "kernelspec": {
   "display_name": "Python 2",
   "language": "python",
   "name": "python2"
  },
  "language_info": {
   "codemirror_mode": {
    "name": "ipython",
    "version": 2
   },
   "file_extension": ".py",
   "mimetype": "text/x-python",
   "name": "python",
   "nbconvert_exporter": "python",
   "pygments_lexer": "ipython2",
   "version": "2.7.15"
  }
 },
 "nbformat": 4,
 "nbformat_minor": 2
}
